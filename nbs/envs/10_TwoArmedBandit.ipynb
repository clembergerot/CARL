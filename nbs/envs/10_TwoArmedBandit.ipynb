{
 "cells": [
  {
   "cell_type": "markdown",
   "id": "4a617afa",
   "metadata": {},
   "source": [
    "# TwoArmedBandit\n",
    "\n",
    "> Defines a two-armed bandit task with possibility of reversals."
   ]
  },
  {
   "cell_type": "code",
   "execution_count": null,
   "id": "0e54a630-ff26-4834-a574-9b6b3a9a6adb",
   "metadata": {},
   "outputs": [],
   "source": [
    "#| default_exp envs/TwoArmedBandit"
   ]
  },
  {
   "cell_type": "code",
   "execution_count": null,
   "id": "781b933b-c818-492e-b92d-cb531be01bb0",
   "metadata": {},
   "outputs": [],
   "source": [
    "#| hide\n",
    "# Imports for the nbdev development environment\n",
    "\n",
    "from nbdev.showdoc import *\n",
    "from fastcore.test import *"
   ]
  },
  {
   "cell_type": "code",
   "execution_count": null,
   "id": "7ba58c18-8f17-4bd4-a751-82c053c3645e",
   "metadata": {},
   "outputs": [],
   "source": [
    "#| hide\n",
    "\n",
    "%load_ext autoreload\n",
    "%autoreload 2"
   ]
  },
  {
   "cell_type": "code",
   "execution_count": null,
   "id": "f4cde624-3267-4aca-8d78-6ec9852c2d94",
   "metadata": {},
   "outputs": [],
   "source": [
    "#| export\n",
    "\n",
    "import numpy as np"
   ]
  },
  {
   "cell_type": "code",
   "execution_count": null,
   "id": "b89efb0e-e7ab-4e4e-adea-a62527bc57f7",
   "metadata": {},
   "outputs": [],
   "source": [
    "#| export\n",
    "\n",
    "class TwoArmedBandit(object):\n",
    "    \"\"\"\n",
    "    Class for defining a simple two-armed bandit task.\n",
    "    \"\"\"\n",
    "\n",
    "    def __init__(self, p_0, p_1, rew, pun):\n",
    "        self.M = 2    # number of arms\n",
    "        self.rew = rew    # reward value (usually 1)\n",
    "        self.pun = pun    # punishment value (usually 0 or -1)\n",
    "        self.probs = [p_0, p_1]    # probability that option 0 (resp. option 1)\n",
    "        # yields a reward\n",
    "\n",
    "    def return_payoffs(self, choices):\n",
    "        \"\"\"Returns reward with probability p and punishment with probability\n",
    "        (1-p).\"\"\"\n",
    "        payoffs = np.ones((len(choices)))\n",
    "        probs_ar = np.array(self.probs)  # create array of probs\n",
    "        choices_li = list(choices)  # create list of choices\n",
    "        probs_now = probs_ar[choices_li]  # returns prob associated\n",
    "        # with each choice\n",
    "        rd = np.random.rand(len(choices))  # returns random numbers\n",
    "        # between 0 and 1\n",
    "        mask = rd <= probs_now  # if random number is smaller than prob,\n",
    "        # arm yields reward\n",
    "        payoffs[mask] = payoffs[mask] * self.rew  # attribute reward\n",
    "        payoffs[~mask] = payoffs[~mask] * self.pun  # attribute punishment\n",
    "        return payoffs\n",
    "\n",
    "    def reversal_occurs(self):\n",
    "        \"\"\"Introduces a reversal in reward probabilities.\"\"\"\n",
    "        self.probs = self.probs[::-1]\n",
    "\n",
    "    def output_probs(self):\n",
    "        \"\"\"Outputs np array of probabilities associated to each option.\"\"\"\n",
    "        return np.array(self.probs)"
   ]
  },
  {
   "cell_type": "markdown",
   "id": "6f6055a4",
   "metadata": {},
   "source": [
    "## Example environment\n",
    "\n",
    "We define a two-armed bandit task with the following reward probabilities: $0.9$ for the first arm, and $0.7$ for the second arm. This means that e.g. the first arm has a probability $0.9$ of returning a reward, that we set to $+1$, and a probability $1 - 0.9 = 0.1$ of returning a penalty, that we set to $-1$."
   ]
  },
  {
   "cell_type": "code",
   "execution_count": null,
   "id": "922a7d56",
   "metadata": {},
   "outputs": [],
   "source": [
    "# Define example environment\n",
    "p_0 = 0.9\n",
    "p_1 = 0.7\n",
    "rew = 1\n",
    "pun = -1\n",
    "\n",
    "example = TwoArmedBandit(p_0, p_1, rew, pun)"
   ]
  },
  {
   "cell_type": "markdown",
   "id": "406f7713",
   "metadata": {},
   "source": [
    "## TwoArmedBandit methods"
   ]
  },
  {
   "cell_type": "code",
   "execution_count": null,
   "id": "fda25bdc",
   "metadata": {},
   "outputs": [
    {
     "data": {
      "text/markdown": [
       "---\n",
       "\n",
       "### TwoArmedBandit.return_payoffs\n",
       "\n",
       ">      TwoArmedBandit.return_payoffs (choices)\n",
       "\n",
       "Returns reward with probability p and punishment with probability\n",
       "(1-p)."
      ],
      "text/plain": [
       "---\n",
       "\n",
       "### TwoArmedBandit.return_payoffs\n",
       "\n",
       ">      TwoArmedBandit.return_payoffs (choices)\n",
       "\n",
       "Returns reward with probability p and punishment with probability\n",
       "(1-p)."
      ]
     },
     "execution_count": null,
     "metadata": {},
     "output_type": "execute_result"
    }
   ],
   "source": [
    "show_doc(TwoArmedBandit.return_payoffs)"
   ]
  },
  {
   "cell_type": "markdown",
   "id": "d3ccf922",
   "metadata": {},
   "source": [
    "**Input**:\n",
    "\n",
    "* agents' choices (array)\n",
    "\n",
    "**Output**:\n",
    "\n",
    "* an array containing the payoffs that result from agents' choices\n",
    "\n",
    "\n",
    "#### Example"
   ]
  },
  {
   "cell_type": "code",
   "execution_count": null,
   "id": "d5586356",
   "metadata": {},
   "outputs": [
    {
     "name": "stdout",
     "output_type": "stream",
     "text": [
      "Choices: [1 0]\n"
     ]
    },
    {
     "data": {
      "text/plain": [
       "array([ 1., -1.])"
      ]
     },
     "execution_count": null,
     "metadata": {},
     "output_type": "execute_result"
    }
   ],
   "source": [
    "# Define random choices (example with two agents)\n",
    "choices = np.random.randint(0, 2, 2)\n",
    "print(\"Choices:\", choices)\n",
    "example.return_payoffs(choices)"
   ]
  },
  {
   "cell_type": "code",
   "execution_count": null,
   "id": "07dc3340",
   "metadata": {},
   "outputs": [
    {
     "data": {
      "text/markdown": [
       "---\n",
       "\n",
       "### TwoArmedBandit.output_probs\n",
       "\n",
       ">      TwoArmedBandit.output_probs ()\n",
       "\n",
       "Outputs np array of probabilities associated to each option."
      ],
      "text/plain": [
       "---\n",
       "\n",
       "### TwoArmedBandit.output_probs\n",
       "\n",
       ">      TwoArmedBandit.output_probs ()\n",
       "\n",
       "Outputs np array of probabilities associated to each option."
      ]
     },
     "execution_count": null,
     "metadata": {},
     "output_type": "execute_result"
    }
   ],
   "source": [
    "show_doc(TwoArmedBandit.output_probs)"
   ]
  },
  {
   "cell_type": "markdown",
   "id": "1c6034cc",
   "metadata": {},
   "source": [
    "**Input**:\n",
    "\n",
    "* none\n",
    "\n",
    "**Output**:\n",
    "\n",
    "* an array containing the bandits' reward probabilities\n",
    "\n",
    "\n",
    "#### Example"
   ]
  },
  {
   "cell_type": "code",
   "execution_count": null,
   "id": "9d7b4910",
   "metadata": {},
   "outputs": [
    {
     "data": {
      "text/plain": [
       "array([0.9, 0.7])"
      ]
     },
     "execution_count": null,
     "metadata": {},
     "output_type": "execute_result"
    }
   ],
   "source": [
    "# Output bandits' probabilities\n",
    "example.output_probs()"
   ]
  },
  {
   "cell_type": "code",
   "execution_count": null,
   "id": "49ad62e1",
   "metadata": {},
   "outputs": [
    {
     "data": {
      "text/markdown": [
       "---\n",
       "\n",
       "### TwoArmedBandit.reversal_occurs\n",
       "\n",
       ">      TwoArmedBandit.reversal_occurs ()\n",
       "\n",
       "Introduces a reversal in reward probabilities."
      ],
      "text/plain": [
       "---\n",
       "\n",
       "### TwoArmedBandit.reversal_occurs\n",
       "\n",
       ">      TwoArmedBandit.reversal_occurs ()\n",
       "\n",
       "Introduces a reversal in reward probabilities."
      ]
     },
     "execution_count": null,
     "metadata": {},
     "output_type": "execute_result"
    }
   ],
   "source": [
    "show_doc(TwoArmedBandit.reversal_occurs)"
   ]
  },
  {
   "cell_type": "markdown",
   "id": "540e73fe",
   "metadata": {},
   "source": [
    "**Input**:\n",
    "\n",
    "* none\n",
    "\n",
    "**Output**:\n",
    "\n",
    "* an array containing the bandits' reward probabilities after reversal\n",
    "\n",
    "\n",
    "#### Example"
   ]
  },
  {
   "cell_type": "code",
   "execution_count": null,
   "id": "d1cfd0a4",
   "metadata": {},
   "outputs": [
    {
     "name": "stdout",
     "output_type": "stream",
     "text": [
      "Probabilities before reversal: [0.9 0.7]\n",
      "Probabilities after reversal: [0.7 0.9]\n"
     ]
    }
   ],
   "source": [
    "# Output bandits' probabilities\n",
    "print(\"Probabilities before reversal:\", example.output_probs())\n",
    "\n",
    "# Reversal occurs\n",
    "example.reversal_occurs()\n",
    "\n",
    "# Output bandits' new probabilities\n",
    "print(\"Probabilities after reversal:\", example.output_probs())"
   ]
  }
 ],
 "metadata": {
  "kernelspec": {
   "display_name": "python3",
   "language": "python",
   "name": "python3"
  }
 },
 "nbformat": 4,
 "nbformat_minor": 5
}
