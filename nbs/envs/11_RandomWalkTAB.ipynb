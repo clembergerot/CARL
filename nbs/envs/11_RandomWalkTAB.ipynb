{
 "cells": [
  {
   "cell_type": "markdown",
   "id": "3abe0b5a-4911-4343-acb2-f5193bf3914b",
   "metadata": {},
   "source": [
    "# RandomWalkTAB\n",
    "\n",
    "> Defines a two-armed bandit task where both arms follow a random walk."
   ]
  },
  {
   "cell_type": "code",
   "execution_count": 1,
   "id": "34b28b9d-15b3-4a3c-bd24-e6a0f8d2f43c",
   "metadata": {},
   "outputs": [],
   "source": [
    "#| default_exp envs/RandomWalkTab"
   ]
  },
  {
   "cell_type": "code",
   "execution_count": 2,
   "id": "8ebfe972-618c-48b6-8914-552a918dc40d",
   "metadata": {},
   "outputs": [],
   "source": [
    "#| hide\n",
    "# Imports for the nbdev development environment\n",
    "\n",
    "from nbdev.showdoc import *\n",
    "from fastcore.test import *"
   ]
  },
  {
   "cell_type": "code",
   "execution_count": 3,
   "id": "936646a6-7cf6-4da6-ac64-c52fdebcee14",
   "metadata": {},
   "outputs": [],
   "source": [
    "#| hide\n",
    "\n",
    "%load_ext autoreload\n",
    "%autoreload 2"
   ]
  },
  {
   "cell_type": "code",
   "execution_count": 4,
   "id": "23fb92ff-988a-4f37-b005-293a6895b000",
   "metadata": {},
   "outputs": [],
   "source": [
    "# import for testing\n",
    "import matplotlib.pyplot as plt"
   ]
  },
  {
   "cell_type": "code",
   "execution_count": 5,
   "id": "b44ae1a8-6818-452d-9f63-b0208de01437",
   "metadata": {},
   "outputs": [],
   "source": [
    "#| export\n",
    "\n",
    "import numpy as np"
   ]
  },
  {
   "cell_type": "code",
   "execution_count": 6,
   "id": "79b44c78-1d55-4d9a-9531-af504f43f27e",
   "metadata": {},
   "outputs": [],
   "source": [
    "#| export\n",
    "\n",
    "class RandomWalkTAB(object):\n",
    "    \"\"\"\n",
    "    Class for defining a random-walk two-armed bandit.\n",
    "    \"\"\"\n",
    "\n",
    "    def __init__(self, kappa, sigma, rew, pun):\n",
    "        self.M = 2    # number of arms\n",
    "        self.kappa = kappa    # decay parameter\n",
    "        self.sigma = sigma    # standard deviation\n",
    "        self.rew = rew   # reward value\n",
    "        self.pun = pun   # punishment value\n",
    "        self.probs = np.random.uniform(size=2)    # initialize random probs\n",
    "\n",
    "    def return_payoffs(self, choices):\n",
    "        \"\"\"Returns reward with probability p and punishment with probability\n",
    "        (1-p), then updates the probabilities according to random walk\"\"\"\n",
    "        payoffs = np.ones((len(choices)))\n",
    "        probs_ar = np.array(self.probs)  # create array of probs\n",
    "        choices_li = list(choices)  # create list of choices\n",
    "        probs_now = probs_ar[choices_li]  # returns prob associated\n",
    "        # with each choice\n",
    "        rd = np.random.rand(len(choices))  # returns random numbers\n",
    "        # between 0 and 1\n",
    "        mask = rd <= probs_now  # if random number is smaller than prob,\n",
    "        # arm yields reward\n",
    "        payoffs[mask] = payoffs[mask] * self.rew  # attribute reward\n",
    "        payoffs[~mask] = payoffs[~mask] * self.pun  # attribute punishment\n",
    "\n",
    "        # Update probs according to random walk\n",
    "        self.probs = self.probs + self.kappa * (0.5 - self.probs) + np.random.normal(loc=0., scale=self.sigma**2, size=2)\n",
    "        \n",
    "        return payoffs\n",
    "\n",
    "    def output_probs(self):\n",
    "        \"\"\"Outputs np array of probabilities associated to each option.\"\"\"\n",
    "        return np.array(self.probs)"
   ]
  },
  {
   "cell_type": "markdown",
   "id": "d53ef1fb-d454-4007-abce-54ab723409e1",
   "metadata": {},
   "source": [
    "## Test"
   ]
  },
  {
   "cell_type": "code",
   "execution_count": 7,
   "id": "a2c27875-2a3e-4e68-a7e8-8ae7568f5916",
   "metadata": {},
   "outputs": [],
   "source": [
    "kappa = 0.01 \n",
    "sigma = 0.05\n",
    "rew = 1\n",
    "pun = -1\n",
    "\n",
    "test = RandomWalkTAB(kappa, sigma, rew, pun)"
   ]
  },
  {
   "cell_type": "code",
   "execution_count": 8,
   "id": "72205cf6-348b-4961-bbf5-028a7193264a",
   "metadata": {},
   "outputs": [
    {
     "data": {
      "text/plain": [
       "array([0.550999  , 0.26893365])"
      ]
     },
     "execution_count": 8,
     "metadata": {},
     "output_type": "execute_result"
    }
   ],
   "source": [
    "# Initial random probs\n",
    "test.output_probs()"
   ]
  },
  {
   "cell_type": "code",
   "execution_count": 9,
   "id": "0cdc1842-710e-4b06-9c8e-2434b605adac",
   "metadata": {},
   "outputs": [],
   "source": [
    "# Store probs over trials\n",
    "n_trials = 100\n",
    "probs_rw = np.zeros((2, n_trials))\n",
    "probs_rw[:, 0] = test.output_probs()"
   ]
  },
  {
   "cell_type": "code",
   "execution_count": 10,
   "id": "b0a89803-493b-4e4e-a408-56b4a8524654",
   "metadata": {},
   "outputs": [],
   "source": [
    "# Run trials with random choice\n",
    "for t in range(1, n_trials):\n",
    "    choices = np.random.randint(2, size=1)\n",
    "    payoffs = test.return_payoffs(choices)\n",
    "    probs_rw[:, t] = test.output_probs()"
   ]
  },
  {
   "cell_type": "code",
   "execution_count": 11,
   "id": "f50d8a25-0e47-4104-bcaa-81627dbbaabf",
   "metadata": {},
   "outputs": [
    {
     "data": {
      "text/plain": [
       "<matplotlib.legend.Legend at 0x791ee15af730>"
      ]
     },
     "execution_count": 11,
     "metadata": {},
     "output_type": "execute_result"
    },
    {
     "data": {
      "image/png": "[encoded data removed]",
      "text/plain": [
       "<Figure size 640x480 with 1 Axes>"
      ]
     },
     "metadata": {},
     "output_type": "display_data"
    }
   ],
   "source": [
    "# Plot the random walk\n",
    "\n",
    "plt.plot(probs_rw[0, :], label=\"rew prob arm 0\")\n",
    "plt.plot(probs_rw[1, :], label=\"rew prob arm 1\")\n",
    "plt.legend()"
   ]
  },
  {
   "cell_type": "code",
   "execution_count": 13,
   "id": "13190ee0-391f-40a1-85de-ee4b945a150f",
   "metadata": {},
   "outputs": [],
   "source": [
    "#| hide\n",
    "import nbdev; nbdev.nbdev_export()"
   ]
  }
 ],
 "metadata": {
  "kernelspec": {
   "display_name": "Python 3 (ipykernel)",
   "language": "python",
   "name": "python3"
  },
  "language_info": {
   "codemirror_mode": {
    "name": "ipython",
    "version": 3
   },
   "file_extension": ".py",
   "mimetype": "text/x-python",
   "name": "python",
   "nbconvert_exporter": "python",
   "pygments_lexer": "ipython3",
   "version": "3.10.12"
  }
 },
 "nbformat": 4,
 "nbformat_minor": 5
}
